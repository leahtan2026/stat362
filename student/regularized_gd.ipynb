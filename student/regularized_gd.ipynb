{
 "cells": [
  {
   "cell_type": "raw",
   "id": "923aee8b-9063-41e2-8387-ccb34025dc70",
   "metadata": {
    "vscode": {
     "languageId": "raw"
    }
   },
   "source": [
    "---\n",
    "title: \"Quiz 5: Regularized Gradient Descent for Linear Regression\"\n",
    "format:\n",
    "  html:\n",
    "    toc: true\n",
    "    toc-title: Contents\n",
    "    number-sections: true\n",
    "    toc-depth: 4\n",
    "    code-fold: show\n",
    "    self-contained: true\n",
    "jupyter: python3\n",
    "---"
   ]
  },
  {
   "cell_type": "markdown",
   "id": "62cdb3da",
   "metadata": {},
   "source": [
    "##  Learning Objectives\n",
    "\n",
    "By the end of this comprehensive lab, you will master the following key concepts and skills:\n",
    "\n",
    "### Theoretical Understanding\n",
    "* **Grasp the overfitting problem**: Understand how complex models can memorize training data but fail to generalize\n",
    "* **Learn regularization fundamentals**: Discover how L1 and L2 penalties constrain model complexity\n",
    "* **Mathematical foundations**: Derive and understand the modified cost functions and gradient formulas for regularized regression\n",
    "\n",
    "### Implementation Mastery\n",
    "* **Extend cost functions**: Add L1 (Lasso) and L2 (Ridge) regularization terms to prevent overfitting\n",
    "* **Vectorized gradient descent**: Implement efficient, matrix-based gradient descent algorithms for both regularization types  \n",
    "* **Handle non-differentiability**: Navigate the challenges of L1 regularization's non-smooth optimization landscape\n",
    "* **Professional coding practices**: Write clean, documented, and efficient machine learning code\n",
    "\n",
    "### Practical Application\n",
    "* **Real overfitting scenario**: Work with a deliberately overfitted polynomial regression model\n",
    "* **Hyperparameter tuning**: Explore how regularization strength (λ) affects model behavior\n",
    "* **Scikit-learn integration**: Leverage industry-standard Lasso and Ridge implementations\n",
    "* **Performance evaluation**: Use RMSE and learning curves to assess model quality\n",
    "\n",
    "### Comparative Analysis\n",
    "* **Method comparison**: Systematically compare custom implementations vs. scikit-learn\n",
    "* **L1 vs L2 analysis**: Understand when to use Lasso (feature selection) vs Ridge (parameter shrinkage)\n",
    "* **Bias-variance tradeoff**: Observe how regularization balances underfitting and overfitting\n",
    "* **Convergence behavior**: Analyze training vs. test performance across different approaches\n",
    "\n",
    "### Key Insights You'll Gain\n",
    "* Why regularization is essential for small datasets and high-dimensional features\n",
    "* How L1 regularization promotes sparsity (automatic feature selection)\n",
    "* Why L2 regularization provides smoother, more stable solutions\n",
    "* When to choose custom implementations vs. pre-built libraries in real-world projects"
   ]
  },
  {
   "cell_type": "markdown",
   "id": "42a58cd4",
   "metadata": {},
   "source": [
    "## Essential Libraries and Dependencies\n",
    "\n",
    "We'll import the core libraries needed for this comprehensive regularization lab:\n",
    "\n",
    "- **NumPy & Matplotlib**: Numerical computing and data visualization\n",
    "- **Pandas**: Data manipulation and analysis framework\n",
    "- **Scikit-learn**: Professional ML implementations (Lasso, Ridge, StandardScaler)\n",
    "- **Math & Copy**: Utility functions for mathematical operations and object copying "
   ]
  },
  {
   "cell_type": "code",
   "execution_count": 250,
   "id": "393fb92e-6a73-44b8-97c2-4ee7aa19345a",
   "metadata": {},
   "outputs": [],
   "source": [
    "import numpy as np\n",
    "import matplotlib.pyplot as plt\n",
    "import pandas as pd\n",
    "import copy, math\n",
    "from sklearn.linear_model import Lasso, Ridge\n",
    "from sklearn.preprocessing import StandardScaler"
   ]
  },
  {
   "cell_type": "markdown",
   "id": "193f3d2b",
   "metadata": {},
   "source": [
    "## Synthetic Dataset Creation: Setting Up for Overfitting\n",
    "\n",
    "**Educational Purpose**: We'll deliberately create a scenario prone to overfitting:\n",
    "\n",
    "- **Small sample size** (only ~10% for training)\n",
    "- **High-dimensional features** (polynomial terms up to x^15)\n",
    "- **Noisy target function** (sine wave + random noise)\n",
    "\n",
    "This setup perfectly demonstrates why regularization is essential in machine learning!"
   ]
  },
  {
   "cell_type": "code",
   "execution_count": 251,
   "id": "fda1d729",
   "metadata": {},
   "outputs": [
    {
     "data": {
      "image/png": "[encoded data removed]",
      "text/plain": [
       "<Figure size 640x480 with 1 Axes>"
      ]
     },
     "metadata": {},
     "output_type": "display_data"
    }
   ],
   "source": [
    "#Define input array with angles from 60deg to 300deg converted to radians\n",
    "x = np.array([i*np.pi/60 for i in range(120)])\n",
    "# x = np.array([i*np.pi/180 for i in range(360)])\n",
    "\n",
    "np.random.seed(10)  #Setting seed for reproducibility\n",
    "y = np.sin(x) + np.random.normal(0,0.15,len(x))\n",
    "data = pd.DataFrame(np.column_stack([x,y]),columns=['x','y'])\n",
    "plt.plot(data['x'],data['y'],'.')\n",
    "plt.show()"
   ]
  },
  {
   "cell_type": "code",
   "execution_count": 252,
   "id": "5df268c1",
   "metadata": {},
   "outputs": [
    {
     "name": "stdout",
     "output_type": "stream",
     "text": [
      "         x         y       x_2       x_3       x_4           x_5  \\\n",
      "0  0.00000  0.199738  0.000000  0.000000  0.000000  0.000000e+00   \n",
      "1  0.05236  0.159628  0.002742  0.000144  0.000008  3.935438e-07   \n",
      "2  0.10472 -0.127282  0.010966  0.001148  0.000120  1.259340e-05   \n",
      "3  0.15708  0.155177  0.024674  0.003876  0.000609  9.563115e-05   \n",
      "4  0.20944  0.301112  0.043865  0.009187  0.001924  4.029889e-04   \n",
      "\n",
      "            x_6           x_7           x_8           x_9          x_10  \\\n",
      "0  0.000000e+00  0.000000e+00  0.000000e+00  0.000000e+00  0.000000e+00   \n",
      "1  2.060591e-08  1.078923e-09  5.649226e-11  2.957928e-12  1.548767e-13   \n",
      "2  1.318778e-06  1.381021e-07  1.446202e-08  1.514459e-09  1.585938e-10   \n",
      "3  1.502171e-05  2.359604e-06  3.706457e-07  5.822090e-08  9.145317e-09   \n",
      "4  8.440179e-05  1.767707e-05  3.702277e-06  7.754031e-07  1.624000e-07   \n",
      "\n",
      "           x_11          x_12          x_13          x_14          x_15  \n",
      "0  0.000000e+00  0.000000e+00  0.000000e+00  0.000000e+00  0.000000e+00  \n",
      "1  8.109328e-15  4.246034e-16  2.223218e-17  1.164074e-18  6.095079e-20  \n",
      "2  1.660790e-11  1.739176e-12  1.821260e-13  1.907219e-14  1.997235e-15  \n",
      "3  1.436543e-09  2.256517e-10  3.544528e-11  5.567731e-12  8.745772e-13  \n",
      "4  3.401299e-08  7.123663e-09  1.491976e-09  3.124788e-10  6.544541e-11  \n"
     ]
    }
   ],
   "source": [
    "for i in range(2,16):  #power of 1 is already there\n",
    "    colname = 'x_%d'%i      #new var will be x_power\n",
    "    data[colname] = data['x']**i\n",
    "print(data.head())"
   ]
  },
  {
   "cell_type": "code",
   "execution_count": 253,
   "id": "428e4dd3",
   "metadata": {},
   "outputs": [
    {
     "name": "stdout",
     "output_type": "stream",
     "text": [
      "Number of observations in the training data: 7\n",
      "Number of observations in the test data: 113\n"
     ]
    }
   ],
   "source": [
    "# split into train and test \n",
    "np.random.seed(123)\n",
    "# split the data into train and test, less data is prone to overfitting, so we will only use  10% data for training\n",
    "mask = np.random.rand(len(data)) < 0.1\n",
    "train = data[mask]\n",
    "test = data[~mask]\n",
    "print('Number of observations in the training data:', len(train))\n",
    "print('Number of observations in the test data:',len(test))"
   ]
  },
  {
   "cell_type": "code",
   "execution_count": 254,
   "id": "5295b771",
   "metadata": {},
   "outputs": [],
   "source": [
    "# split feature and target\n",
    "X_train = train.drop('y', axis=1).values\n",
    "y_train = train['y'].values\n",
    "X_test = test.drop('y', axis=1).values\n",
    "y_test = test['y'].values"
   ]
  },
  {
   "cell_type": "code",
   "execution_count": 255,
   "id": "d1222509",
   "metadata": {},
   "outputs": [
    {
     "data": {
      "text/plain": [
       "[<matplotlib.lines.Line2D at 0x168faf490>]"
      ]
     },
     "execution_count": 255,
     "metadata": {},
     "output_type": "execute_result"
    },
    {
     "data": {
      "image/png": "[encoded data removed]",
      "text/plain": [
       "<Figure size 640x480 with 1 Axes>"
      ]
     },
     "metadata": {},
     "output_type": "display_data"
    }
   ],
   "source": [
    "plt.plot(X_train[:,0], y_train, 'b.')   "
   ]
  },
  {
   "cell_type": "markdown",
   "id": "76a4123d",
   "metadata": {},
   "source": [
    "## Critical Observation: The Perfect Storm for Overfitting\n",
    "\n",
    "This is a textbook case where regularization becomes absolutely essential!\n",
    "\n",
    "Notice the dangerous combination we've created:\n",
    "\n",
    "- **Extremely small training set**: Only ~7-12 training instances\n",
    "   - No regularization means unlimited parameter growth\n",
    "\n",
    "\n",
    "- **High feature dimensionality**: 15 polynomial features  \n",
    "   - Each polynomial term can memorize individual training points\n",
    "\n",
    "- **Complex underlying pattern**: Sine wave with noise\n",
    "   \n",
    "\n",
    "**Why this leads to overfitting:**\n",
    "\n",
    "- The model has more parameters (15) than training examples (~7-12)"
   ]
  },
  {
   "cell_type": "code",
   "execution_count": 256,
   "id": "29f67140",
   "metadata": {},
   "outputs": [],
   "source": [
    "# do standardization\n",
    "scaler = StandardScaler()\n",
    "X_train_scaled = scaler.fit_transform(X_train)\n",
    "X_test_scaled = scaler.transform(X_test)\n"
   ]
  },
  {
   "cell_type": "markdown",
   "id": "7e68724f",
   "metadata": {},
   "source": [
    "## Baseline Implementation: Vanilla Gradient Descent\n",
    "\n",
    "### Prerequisites: Building on Previous Knowledge\n",
    "\n",
    "Before we add regularization, let's establish our baseline with standard gradient descent. \n",
    "\n",
    "**Key Requirement**: Modified to track both training AND test performance to demonstrate overfitting.\n",
    "\n",
    "**Your Task**: Implement the core gradient descent functions from your previous lab:\n",
    "\n",
    "- `compute_cost_matrix()`: Calculate MSE cost using vectorization\n",
    "- `gradient_descent_matrix()`: Main optimization loop\n",
    "- `compute_gradient_matrix()`: Compute gradients efficiently "
   ]
  },
  {
   "cell_type": "code",
   "execution_count": 257,
   "id": "b77bd94d",
   "metadata": {},
   "outputs": [],
   "source": [
    "def compute_cost_matrix(X, y, w):\n",
    "    \"\"\"\n",
    "    Computes the Mean Squared Error cost for linear regression using vectorization\n",
    "    \n",
    "    Mathematical Formula: J(w) = (1/2m) * ||Xw - y||²\n",
    "    \n",
    "    Args:\n",
    "      X (ndarray (m,n+1)): Feature matrix, m training examples with n+1 features (including bias)\n",
    "      y (ndarray (m,)): Target values for training examples\n",
    "      w (ndarray (n+1,)): Model parameters (weights + bias)\n",
    "      \n",
    "    Returns:\n",
    "      cost (scalar): Mean squared error cost\n",
    "      \n",
    "\n",
    "    Implementation Hint:    return cost\n",
    "\n",
    "      Use vectorized operations: (X @ w - y).T @ (X @ w - y) / (2*m)    \n",
    "\n",
    "    \"\"\"    # Formula: J = (1/2m) * (predictions - targets)^2\n",
    "    # TODO: Implement vectorized MSE cost calculation\n",
    "    m = len(y)\n",
    "    predictions = X @ w\n",
    "    cost = np.sum((predictions - y) ** 2) / (2*m)\n",
    "    return cost"
   ]
  },
  {
   "cell_type": "code",
   "execution_count": 258,
   "id": "e76c04fd",
   "metadata": {},
   "outputs": [],
   "source": [
    "def compute_gradient_matrix(X, y, w):\n",
    "    \"\"\"\n",
    "    Computes the gradient of MSE cost w.r.t. parameters using vectorization\n",
    "    \n",
    "    Mathematical Formula: ∇J(w) = (1/m) * X.T @ (Xw - y)\n",
    "    \n",
    "    Args:\n",
    "      X (ndarray (m,n+1)): Feature matrix with bias column\n",
    "      y (ndarray (m,)): Target values \n",
    "      w (ndarray (n+1,)): Current model parameters\n",
    "      \n",
    "    Returns:\n",
    "      dj_dw (ndarray (n+1,)): Gradient vector for all parameters\n",
    "      \n",
    "    Implementation Hint:\n",
    "\n",
    "      Vectorized form avoids loops: X.T @ (predictions - targets) / m    return dj_dw\n",
    "\n",
    "    \"\"\"    \n",
    "\n",
    "    # TODO: Implement vectorized gradient calculation    # Formula: dJ/dw = (1/m) * X.T * (X*w - y)\n",
    "    m = len(y)\n",
    "    predictions = X @ w\n",
    "    errors = predictions - y\n",
    "    dj_dw = (X.T @ errors) / m\n",
    "    return dj_dw"
   ]
  },
  {
   "cell_type": "markdown",
   "id": "aa44b134",
   "metadata": {},
   "source": [
    "## Enhanced Gradient Descent: Tracking Overfitting in Real-Time\n",
    "\n",
    "- Return both cost histories for visualization\n",
    "\n",
    "**Critical Modification**: We need to monitor BOTH training and test performance simultaneously to observe overfitting as it happens.\n",
    "\n",
    "- Print progress every 1000 iterations for monitoring\n",
    "- Calculate test cost at each iteration (without updating weights on test data)\n",
    "\n",
    "**Key Requirements:**\n",
    "\n",
    "- Track training cost at each iteration"
   ]
  },
  {
   "cell_type": "code",
   "execution_count": 259,
   "id": "4a36c343",
   "metadata": {},
   "outputs": [],
   "source": [
    "def gradient_descent_matrix(X, y, X_test, y_test, w_in, alpha, num_iters): \n",
    "    \"\"\"\n",
    "    Performs batch gradient descent to learn w. Updates w by taking \n",
    "    num_iters gradient steps with learning rate alpha\n",
    "    \n",
    "    Args:\n",
    "      X (ndarray (?,n+1))   : Training set, ? examples with n features\n",
    "      y (ndarray (?,))    : target values in test set\n",
    "      X_test (ndarray (?,n+1))   : Test set, ? examples with n features\n",
    "      y_test (ndarray (?,))    : target values in test set\n",
    "      w_in (ndarray (n+1,)) : initial model parameters  \n",
    "      alpha (float)       : Learning rate\n",
    "      num_iters (int)     : number of iterations to run gradient descent\n",
    "      \n",
    "    Returns:\n",
    "      w (ndarray (n+1,)) : Updated values of parameters\n",
    "      J_history           : Cost of the model on the training set after each iteration\n",
    "      test_J_history      : Cost of the model on test set after each iteration\n",
    "      \"\"\"\n",
    "    \n",
    "    # implement the batch gradient descent algorithm using the compute_gradient and compute_cost functions\n",
    "    w = copy.deepcopy(w_in) \n",
    "    J_history = []\n",
    "    test_J_history = []\n",
    "    for i in range(num_iters):\n",
    "        dj_dw = compute_gradient_matrix(X,y,w)\n",
    "        w = w - alpha * dj_dw\n",
    "        cost = compute_cost_matrix(X, y, w)\n",
    "        test_cost = compute_cost_matrix(X_test, y_test, w)\n",
    "        J_history.append(cost)\n",
    "        test_J_history.append(test_cost)\n",
    "        if i % 1000 == 0:\n",
    "            print(f\"Iteration {i}: Training Cost {cost}, Test Cost {test_cost}\")  \n",
    "    return w, J_history, test_J_history"
   ]
  },
  {
   "cell_type": "markdown",
   "id": "1c176ebc",
   "metadata": {},
   "source": [
    "## Testing Your Implementation: Demonstrating Overfitting\n",
    "\n",
    "**Expected Outcome**: You should observe the training cost decreasing while test cost increases - classic overfitting!\n",
    "\n",
    "**Experiment Parameters:**\n",
    "\n",
    "- Learning rate: `alpha = 0.1` (aggressive for faster convergence)\n",
    "- Data: Use standardized features (`X_train_scaled`, `X_test_scaled`)\n",
    "- Iterations: `num_iters = 50000` (ensure full convergence)"
   ]
  },
  {
   "cell_type": "code",
   "execution_count": 260,
   "id": "d7a34a06",
   "metadata": {},
   "outputs": [
    {
     "name": "stdout",
     "output_type": "stream",
     "text": [
      "Iteration 0: Training Cost 0.1866960528996568, Test Cost 0.2092898934425311\n",
      "Iteration 1000: Training Cost 0.008920250604629266, Test Cost 0.07780092541033456\n",
      "Iteration 2000: Training Cost 0.0076538454130697705, Test Cost 0.06628499187322848\n",
      "Iteration 3000: Training Cost 0.006585679265444797, Test Cost 0.05717185615074206\n",
      "Iteration 4000: Training Cost 0.005684037145686794, Test Cost 0.05013505244545631\n",
      "Iteration 5000: Training Cost 0.004922920082954785, Test Cost 0.04479674478159615\n",
      "Iteration 6000: Training Cost 0.004280392611234656, Test Cost 0.04083842907889712\n",
      "Iteration 7000: Training Cost 0.0037379434138849594, Test Cost 0.03799578170458272\n",
      "Iteration 8000: Training Cost 0.0032799507819497036, Test Cost 0.03604988093933049\n",
      "Iteration 9000: Training Cost 0.0028932315474395217, Test Cost 0.03481975503889896\n",
      "Iteration 10000: Training Cost 0.002566660428151208, Test Cost 0.03415613810324994\n",
      "Iteration 11000: Training Cost 0.002290848792596498, Test Cost 0.03393623013224423\n",
      "Iteration 12000: Training Cost 0.002057873569585197, Test Cost 0.034059299755450634\n",
      "Iteration 13000: Training Cost 0.001861048474904124, Test Cost 0.0344429957332642\n",
      "Iteration 14000: Training Cost 0.0016947309494117246, Test Cost 0.035020254683613736\n",
      "Iteration 15000: Training Cost 0.001554159234011782, Test Cost 0.03573671024470107\n",
      "Iteration 10000: Training Cost 0.002566660428151208, Test Cost 0.03415613810324994\n",
      "Iteration 11000: Training Cost 0.002290848792596498, Test Cost 0.03393623013224423\n",
      "Iteration 12000: Training Cost 0.002057873569585197, Test Cost 0.034059299755450634\n",
      "Iteration 13000: Training Cost 0.001861048474904124, Test Cost 0.0344429957332642\n",
      "Iteration 14000: Training Cost 0.0016947309494117246, Test Cost 0.035020254683613736\n",
      "Iteration 15000: Training Cost 0.001554159234011782, Test Cost 0.03573671024470107\n",
      "Iteration 16000: Training Cost 0.0014353148771526843, Test Cost 0.03654852382776229\n",
      "Iteration 17000: Training Cost 0.001334806704846151, Test Cost 0.03742056970986006\n",
      "Iteration 18000: Training Cost 0.0012497729029152139, Test Cost 0.03832491783518865\n",
      "Iteration 19000: Training Cost 0.0011777983841607653, Test Cost 0.039239566644160284\n",
      "Iteration 20000: Training Cost 0.0011168450544772235, Test Cost 0.04014738579384243\n",
      "Iteration 21000: Training Cost 0.0010651929643971853, Test Cost 0.041035234991454714\n",
      "Iteration 22000: Training Cost 0.0010213906468542117, Test Cost 0.04189323052049203\n",
      "Iteration 16000: Training Cost 0.0014353148771526843, Test Cost 0.03654852382776229\n",
      "Iteration 17000: Training Cost 0.001334806704846151, Test Cost 0.03742056970986006\n",
      "Iteration 18000: Training Cost 0.0012497729029152139, Test Cost 0.03832491783518865\n",
      "Iteration 19000: Training Cost 0.0011777983841607653, Test Cost 0.039239566644160284\n",
      "Iteration 20000: Training Cost 0.0011168450544772235, Test Cost 0.04014738579384243\n",
      "Iteration 21000: Training Cost 0.0010651929643971853, Test Cost 0.041035234991454714\n",
      "Iteration 22000: Training Cost 0.0010213906468542117, Test Cost 0.04189323052049203\n",
      "Iteration 23000: Training Cost 0.0009842132071992509, Test Cost 0.0427141355533983\n",
      "Iteration 24000: Training Cost 0.0009526269553471236, Test Cost 0.0434928541478617\n",
      "Iteration 25000: Training Cost 0.0009257595588295855, Test Cost 0.044226012027277294\n",
      "Iteration 26000: Training Cost 0.0009028748549437216, Test Cost 0.04491160994386501\n",
      "Iteration 27000: Training Cost 0.0008833515947130227, Test Cost 0.04554873769469314\n",
      "Iteration 28000: Training Cost 0.0008666655049068165, Test Cost 0.046137338773396756\n",
      "Iteration 29000: Training Cost 0.0008523741501707023, Test Cost 0.046678017250146905\n",
      "Iteration 30000: Training Cost 0.0008401041581717493, Test Cost 0.04717187982706085\n",
      "Iteration 31000: Training Cost 0.0008295404388929445, Test Cost 0.04762040715585979\n",
      "Iteration 32000: Training Cost 0.0008204170867911915, Test Cost 0.04802534946307069\n",
      "Iteration 33000: Training Cost 0.0008125097031243088, Test Cost 0.04838864233396608\n",
      "Iteration 34000: Training Cost 0.0008056289167594949, Test Cost 0.04871233918380271\n",
      "Iteration 35000: Training Cost 0.0007996149163808388, Test Cost 0.04899855751406148\n",
      "Iteration 23000: Training Cost 0.0009842132071992509, Test Cost 0.0427141355533983\n",
      "Iteration 24000: Training Cost 0.0009526269553471236, Test Cost 0.0434928541478617\n",
      "Iteration 25000: Training Cost 0.0009257595588295855, Test Cost 0.044226012027277294\n",
      "Iteration 26000: Training Cost 0.0009028748549437216, Test Cost 0.04491160994386501\n",
      "Iteration 27000: Training Cost 0.0008833515947130227, Test Cost 0.04554873769469314\n",
      "Iteration 28000: Training Cost 0.0008666655049068165, Test Cost 0.046137338773396756\n",
      "Iteration 29000: Training Cost 0.0008523741501707023, Test Cost 0.046678017250146905\n",
      "Iteration 30000: Training Cost 0.0008401041581717493, Test Cost 0.04717187982706085\n",
      "Iteration 31000: Training Cost 0.0008295404388929445, Test Cost 0.04762040715585979\n",
      "Iteration 32000: Training Cost 0.0008204170867911915, Test Cost 0.04802534946307069\n",
      "Iteration 33000: Training Cost 0.0008125097031243088, Test Cost 0.04838864233396608\n",
      "Iteration 34000: Training Cost 0.0008056289167594949, Test Cost 0.04871233918380271\n",
      "Iteration 35000: Training Cost 0.0007996149163808388, Test Cost 0.04899855751406148\n",
      "Iteration 36000: Training Cost 0.0007943328362167327, Test Cost 0.04924943652940625\n",
      "Iteration 37000: Training Cost 0.0007896688620532581, Test Cost 0.04946710409237132\n",
      "Iteration 38000: Training Cost 0.0007855269450972197, Test Cost 0.049653651329531256\n",
      "Iteration 39000: Training Cost 0.000781826028803654, Test Cost 0.04981111348532251\n",
      "Iteration 40000: Training Cost 0.000778497708594418, Test Cost 0.04994145585640364\n",
      "Iteration 41000: Training Cost 0.0007754842568936235, Test Cost 0.050046563837739144\n",
      "Iteration 36000: Training Cost 0.0007943328362167327, Test Cost 0.04924943652940625\n",
      "Iteration 37000: Training Cost 0.0007896688620532581, Test Cost 0.04946710409237132\n",
      "Iteration 38000: Training Cost 0.0007855269450972197, Test Cost 0.049653651329531256\n",
      "Iteration 39000: Training Cost 0.000781826028803654, Test Cost 0.04981111348532251\n",
      "Iteration 40000: Training Cost 0.000778497708594418, Test Cost 0.04994145585640364\n",
      "Iteration 41000: Training Cost 0.0007754842568936235, Test Cost 0.050046563837739144\n",
      "Iteration 42000: Training Cost 0.0007727369564541958, Test Cost 0.05012823627757453\n",
      "Iteration 43000: Training Cost 0.0007702146938514447, Test Cost 0.05018818147731532\n",
      "Iteration 44000: Training Cost 0.0007678827725316427, Test Cost 0.050228015288350324\n",
      "Iteration 45000: Training Cost 0.000765711911143217, Test Cost 0.05024926085474547\n",
      "Iteration 46000: Training Cost 0.000763677398227982, Test Cost 0.050253349631529456\n",
      "Iteration 47000: Training Cost 0.000761758378864715, Test Cost 0.05024162337562519\n",
      "Iteration 48000: Training Cost 0.0007599372526673598, Test Cost 0.05021533686248308\n",
      "Iteration 49000: Training Cost 0.0007581991657554224, Test Cost 0.050175661128010876\n",
      "Iteration 42000: Training Cost 0.0007727369564541958, Test Cost 0.05012823627757453\n",
      "Iteration 43000: Training Cost 0.0007702146938514447, Test Cost 0.05018818147731532\n",
      "Iteration 44000: Training Cost 0.0007678827725316427, Test Cost 0.050228015288350324\n",
      "Iteration 45000: Training Cost 0.000765711911143217, Test Cost 0.05024926085474547\n",
      "Iteration 46000: Training Cost 0.000763677398227982, Test Cost 0.050253349631529456\n",
      "Iteration 47000: Training Cost 0.000761758378864715, Test Cost 0.05024162337562519\n",
      "Iteration 48000: Training Cost 0.0007599372526673598, Test Cost 0.05021533686248308\n",
      "Iteration 49000: Training Cost 0.0007581991657554224, Test Cost 0.050175661128010876\n"
     ]
    }
   ],
   "source": [
    "# Do the gradient descent with the scaled data\n",
    "# add a column of ones to the X_train\n",
    "\n",
    "#Add bias column\n",
    "X_train_scaled = np.hstack((np.ones((X_train_scaled.shape[0],1)), X_train_scaled))\n",
    "X_test_scaled = np.hstack((np.ones((X_test_scaled.shape[0],1)), X_test_scaled))\n",
    "#Initialize parameters\n",
    "num_iters = 50000\n",
    "w_in = np.zeros(X_train_scaled.shape[1])\n",
    "alpha = 0.1\n",
    "#Calculate gradient descent\n",
    "w, J_history, test_J_history = gradient_descent_matrix(X_train_scaled, y_train, X_test_scaled, y_test, w_in, alpha, num_iters)"
   ]
  },
  {
   "cell_type": "code",
   "execution_count": 261,
   "id": "f55dfe84",
   "metadata": {},
   "outputs": [
    {
     "data": {
      "image/png": "[encoded data removed]",
      "text/plain": [
       "<Figure size 1000x500 with 2 Axes>"
      ]
     },
     "metadata": {},
     "output_type": "display_data"
    }
   ],
   "source": [
    "# putting the learning curve to show the overfitting issue of the model\n",
    "fig, axs = plt.subplots(1, 2, figsize=(10, 5))\n",
    "axs[0].plot(J_history, label='Training')\n",
    "axs[0].plot(test_J_history, label='Test')\n",
    "axs[0].set_xlabel('Iterations')\n",
    "axs[0].set_ylabel('Cost')\n",
    "axs[0].set_title('Cost vs. Iterations')\n",
    "axs[0].legend()\n",
    "\n",
    "axs[1].plot(J_history[5000:], label='Training')\n",
    "axs[1].plot(test_J_history[5000:], label='Test')\n",
    "axs[1].set_xlabel('Iterations')\n",
    "axs[1].set_ylabel('Cost')\n",
    "axs[1].set_title('Cost vs. Iterations after 5000 iterations')\n",
    "axs[1].legend()\n",
    "\n",
    "plt.show()"
   ]
  },
  {
   "cell_type": "code",
   "execution_count": 262,
   "id": "9a719dc3",
   "metadata": {},
   "outputs": [
    {
     "data": {
      "image/png": "[encoded data removed]",
      "text/plain": [
       "<Figure size 1000x500 with 2 Axes>"
      ]
     },
     "metadata": {},
     "output_type": "display_data"
    }
   ],
   "source": [
    "# plot the model on the train and test data\n",
    "fig, axs = plt.subplots(1, 2, figsize=(10,5))\n",
    "fig.suptitle('Train and Test Data')\n",
    "axs[0].plot(X_train[:, 0:1], X_train_scaled @ w, 'r')\n",
    "axs[0].plot(X_train[:, 0:1], y_train, '.')\n",
    "axs[0].set_title('Train Data')\n",
    "axs[1].plot(X_test[:, 0:1], X_test_scaled @ w, 'g')\n",
    "axs[1].plot(X_test[:, 0:1], y_test, '.')\n",
    "axs[1].set_title('Test Data')\n",
    "plt.show()\n"
   ]
  },
  {
   "cell_type": "code",
   "execution_count": 263,
   "id": "6164dbee",
   "metadata": {},
   "outputs": [
    {
     "name": "stdout",
     "output_type": "stream",
     "text": [
      "Final training RMSE:  0.0275051489373022\n",
      "Final test RMSE:  0.223883328649572\n"
     ]
    }
   ],
   "source": [
    "# output the final RMSE for the training and test set\n",
    "gd_rmse_train = math.sqrt(J_history[-1])\n",
    "gd_rmse_test = math.sqrt(test_J_history[-1])\n",
    "print(\"Final training RMSE: \",gd_rmse_train)\n",
    "print(\"Final test RMSE: \", gd_rmse_test)"
   ]
  },
  {
   "cell_type": "markdown",
   "id": "802e2472",
   "metadata": {},
   "source": [
    "## Analysis: Overfitting Confirmed!\n",
    "\n",
    "**The Solution**: Add regularization to constrain parameter growth and improve generalization. \n",
    "\n",
    "**What You Should Observe:**\n",
    "\n",
    "- **Training RMSE**: Very low (model memorized training data)\n",
    "  - **The Problem**: Our model learned the noise, not the underlying pattern!\n",
    "\n",
    "- **Test RMSE**: Much higher (poor generalization)\n",
    "\n",
    "- **Learning curves**: Training cost ↓, Test cost ↑ (diverging lines)\n",
    "- **Visualizations**: Perfect fit on training, erratic on test data"
   ]
  },
  {
   "cell_type": "markdown",
   "id": "4576e7ca",
   "metadata": {},
   "source": [
    "## Regularization: The Overfitting Solution\n",
    "\n",
    "**Core Concept**: Add a penalty term to the cost function that discourages large parameter values.\n",
    "\n",
    "**Why Regularization Works:**\n",
    "- **Constrains model complexity** by limiting parameter magnitude\n",
    "- **Improves generalization** by preventing memorization of training noise\n",
    "- **Provides smoothness** by preferring simpler, more stable solutions\n",
    "- **Reduces variance** while introducing controlled bias\n",
    "\n",
    "**Two Main Regularization Types:**\n",
    "- **L1 (Lasso)**: λ||w||₁ - Promotes sparsity, drives weights to exactly zero\n",
    "- **L2 (Ridge)**: λ||w||₂² - Shrinks weights smoothly, keeps all features active\n",
    "\n",
    "**Mathematical Intuition**: Both add penalty terms that grow with parameter magnitude, forcing the optimizer to balance fitting the data with keeping weights small.\n",
    "\n",
    "<b>Cost function for L1 regularized linear regression</b>\n",
    "\\begin{equation}\n",
    "J(w) = 1/2m \\sum_{i=1}^{m} (f_{\\mathbf{w}}(\\mathbf{x})^{(i)} - y^{(i)})^2 +\\lambda/2m\\sum_{j=1}^{n} |w_j|  \\tag{1}\n",
    "\\end{equation}\n",
    "\n",
    "**Vectorized L1 Regularized Cost Function with Summation**\n",
    "\n",
    "\\begin{equation}\n",
    "J(W) = \\frac{1}{2m} (XW - y)^T (XW - y) + \\lambda \\sum_{j=1}^{n} |w_j|   \\tag{2}\n",
    "\\end{equation}\n",
    "\n",
    "**L1 In Vectorized Form**\n",
    "\n",
    "\\begin{equation}\n",
    "J(W) = \\frac{1}{2m} (XW - y)^T (XW - y) + \\lambda \\| W \\|_1   \\tag{3}\n",
    "\\end{equation}\n",
    "\n",
    "<b>Cost function for L2 regularized linear regression</b>\n",
    "\n",
    "\\begin{equation}\n",
    "J(w) = 1/2m \\sum_{i=1}^{m} (f_{\\mathbf{w}}(\\mathbf{x})^{(i)} - y^{(i)})^2 +\\lambda/2m\\sum_{j=1}^{n} w_j^2   \\tag{4}\n",
    "\\end{equation}\n",
    "\n",
    "\n",
    "**Vectorized L2 Regularized Cost Function with Summation**\n",
    "\n",
    "\\begin{equation}\n",
    "J(W) = \\frac{1}{2m} (XW - y)^T (XW - y) + \\lambda \\sum_{j=1}^{n} w_j^2    \\tag{5}\n",
    "\\end{equation}\n",
    "\n",
    "**L2 Regularized Cost Function in Vectorized Form**\n",
    "\n",
    "\\begin{equation}\n",
    "J(W) = \\frac{1}{2m} (XW - y)^T (XW - y) + \\frac{\\lambda}{2} \\| W \\|_2^2    \\tag{6}\n",
    "\\end{equation}\n",
    "\n",
    "\n",
    "Compare this to the cost function without regularization (which you implemented in  a previous lab), which is of the form:\n",
    "\n",
    "\n",
    "\\begin{equation} \n",
    "J(W) = \\frac{1}{2m} (XW - y)^T (XW - y)    \\tag{7}\n",
    "\\end{equation}\n",
    "\n",
    "\n",
    "\n",
    "The difference is the regularization term,  <span style=\"color:red\">\n",
    "    $\\frac{\\lambda}{2m}  \\sum_{j=1}^{n} w_j^2$ </span> and <span style=\"color:red\">\n",
    "    $\\frac{\\lambda}{2m} \\sum_{j=1}^{n} |w_j|$ \n",
    "    \n",
    "Including this term encourages gradient descent to minimize the size of the parameters.\n",
    "\n",
    " **Note, in this example, the parameter $w_0$ is not regularized. This is standard practice.**"
   ]
  },
  {
   "cell_type": "markdown",
   "id": "2bd21f72",
   "metadata": {},
   "source": [
    "## Gradient descent with regularization\n",
    "The basic algorithm for running gradient descent does not change with regularization, it is:\n",
    "$$\\begin{align*}\n",
    "&\\text{repeat until convergence:} \\; \\lbrace \\\\\n",
    "&  \\; \\; \\;w_j = w_j -  \\alpha \\frac{\\partial J(\\mathbf{w})}{\\partial w_j} \\tag{1}  \\; & \\text{for j := 0..n} \\\\    \n",
    "&\\rbrace\n",
    "\\end{align*}$$\n",
    "Where each iteration performs simultaneous updates on $w_j$ for all $j$.\n",
    "\n",
    "What changes with regularization is computing the gradients. Let's try L2 regularization next"
   ]
  },
  {
   "cell_type": "markdown",
   "id": "bdee53d1",
   "metadata": {},
   "source": [
    "## Gradient For L2 regularization \n",
    "\n",
    "\\begin{equation}\n",
    "\\frac{\\partial J(w)}{\\partial w_j} = 1/m\\sum_{i=1}^{m}(f_{\\mathbf{w}}(\\mathbf{x})^{(i)} - y^{(i)}).x_j^{(i)} + (\\lambda/m)x_j^{(i)}  \\tag{8}\n",
    "\\end{equation}\n",
    "\n",
    "    \n",
    "The term which adds regularization is  the <span style=\"color:red\"> \n",
    "$\\frac{\\lambda}{m} w_j ^{(i)}$</span>, the parameter $w_0$ is not regularized\n",
    "\n",
    "**Vectorized form**\n",
    "\n",
    "\\begin{equation}\n",
    "W := W - \\alpha \\left( \\frac{1}{m} X^T (XW - y) + \\lambda W \\right)    \\tag{9}\n",
    "\\end{equation}\n",
    "\n"
   ]
  },
  {
   "cell_type": "markdown",
   "id": "62deb5eb",
   "metadata": {},
   "source": [
    "### Task 1: L2 Regularization Implementation (Ridge Regression)\n",
    "\n",
    "**Critical Note**: Do NOT regularize the bias term (w₀) - standard ML practice!\n",
    "\n",
    "**Objective**: Implement L2 regularization to combat overfitting through parameter shrinkage.\n",
    "\n",
    "- **Implementation**: Use vectorization for efficiency\n",
    "\n",
    "**Key Mathematical Changes:**- **Gradient**: Add λ * w regularization term to standard gradient\n",
    "- **Cost function**: Add λ/2 * ||w||₂² penalty term"
   ]
  },
  {
   "cell_type": "code",
   "execution_count": 264,
   "id": "330fd198",
   "metadata": {},
   "outputs": [],
   "source": [
    "def compute_cost_matrix_reg_l2(X, y, w, lambda_reg):\n",
    "    \"\"\"\n",
    "    🎯 Computes L2 regularized cost for linear regression (Ridge Regression)\n",
    "    \n",
    "    Mathematical Formula: \n",
    "    J(w) = (1/2m) * ||Xw - y||² + (λ/2) * ||w[1:]||²\n",
    "    \n",
    "    Args:\n",
    "      X (ndarray (m,n)): Feature matrix (including bias column)\n",
    "      y (ndarray (m,)): Target values\n",
    "      w (ndarray (n,)): Model parameters [bias, w1, w2, ..., wn]\n",
    "      lambda_reg (float): Regularization strength (λ)\n",
    "      \n",
    "    Returns:\n",
    "      cost (scalar): Total cost = MSE + L2 penalty\n",
    "      \n",
    "    Implementation Notes:\n",
    "\n",
    "      - Don't regularize bias term: w[0] excluded from penalty\n",
    "\n",
    "      - Use w[1:] for regularization term   \n",
    "\n",
    "      - Vectorized: λ/2 * np.sum(w[1:]**2)    # cost = MSE_cost + (lambda_reg/2) * sum(w[1:]^2)\n",
    "\n",
    "    \"\"\"    # TODO: Implement L2 regularized cost\n",
    "    m = len(y)\n",
    "    predictions = X @ w\n",
    "    mse_cost = np.sum((predictions - y) ** 2) / (2*m)\n",
    "    l2_penalty = (lambda_reg / 2) * np.sum(w[1:] ** 2)\n",
    "    cost = mse_cost + l2_penalty\n",
    "    return cost"
   ]
  },
  {
   "cell_type": "code",
   "execution_count": 265,
   "id": "980326ad",
   "metadata": {},
   "outputs": [],
   "source": [
    "# Function to calculate the gradient with L2 regularization\n",
    "def compute_gradient_matrix_reg_l2(X, y, w, lambda_reg):\n",
    "    \"\"\"\n",
    "    Computes the gradient for linear regression with L2 regularization\n",
    "    \n",
    "    Args:\n",
    "      X (ndarray (m,n)): Data, m examples with n features\n",
    "      y (ndarray (m,)) : target values\n",
    "      w (ndarray (n,)) : model parameters\n",
    "      lambda_reg (float): regularization parameter\n",
    "      \n",
    "    Returns\n",
    "      dj_dw (ndarray (n,1)): The gradient of the cost w.r.t. the parameters w.\n",
    "    \"\"\"\n",
    "    # use vectorization to implement the gradient for linear regression with L2 regularization, do not regularize the bias term\n",
    "    m = len(y)\n",
    "    predictions = X @ w\n",
    "    errors = predictions - y\n",
    "    dj_dw = (X.T @ errors) / m\n",
    "    # Add regularization term for weights w[1:] (excluding bias w[0])\n",
    "    dj_dw[1:] += (lambda_reg / m) * w[1:]\n",
    "    return dj_dw\n"
   ]
  },
  {
   "cell_type": "code",
   "execution_count": 266,
   "id": "0f214e5d",
   "metadata": {},
   "outputs": [],
   "source": [
    "# Function to perform gradient descent with L2 regularization\n",
    "def gradient_descent_matrix_reg_l2(X, y, X_test, y_test, w_in, alpha, num_iters, lambda_reg):\n",
    "    \"\"\"\n",
    "    Performs batch gradient descent to learn w. Updates w by taking \n",
    "    num_iters gradient steps with learning rate alpha\n",
    "    \n",
    "    Args:\n",
    "      X (ndarray (?,n+1))   : Training Data, m examples with n features\n",
    "      y (ndarray (?,))    : Training target values\n",
    "      X_test (ndarray (?,n+1))   : Test set, m examples with n features\n",
    "      y_test (ndarray (?,))    : target values in test set\n",
    "      w_in (ndarray (n+1,)) : initial model parameters  \n",
    "      alpha (float)       : Learning rate\n",
    "      num_iters (int)     : number of iterations to run gradient descent\n",
    "      lambda_reg (float)  : regularization parameter\n",
    "      \n",
    "    Returns:\n",
    "      w (ndarray (n+1,)) : Updated values of parameters\n",
    "      J_history           : Cost of the model after each iteration\n",
    "      test_J_history      : Cost of the model on test set after each iteration\n",
    "      \"\"\"\n",
    "    \n",
    "    # implement the batch gradient descent algorithm with L2 regularization using the compute_gradient and compute_cost functions\n",
    "    w = copy.deepcopy(w_in) \n",
    "    J_history = []\n",
    "    test_J_history = []\n",
    "    for i in range(num_iters):\n",
    "        dj_dw = compute_gradient_matrix_reg_l2(X, y, w, lambda_reg)\n",
    "        w = w - alpha * dj_dw\n",
    "        cost = compute_cost_matrix_reg_l2(X, y, w, lambda_reg)\n",
    "        test_cost = compute_cost_matrix_reg_l2(X_test, y_test, w, lambda_reg)\n",
    "        J_history.append(cost)\n",
    "        test_J_history.append(test_cost)\n",
    "        if i % 5000 == 0:\n",
    "            print(f\"Iteration {i}: Training Cost {cost}, Test Cost {test_cost}\")  \n",
    "    return w, J_history, test_J_history\n"
   ]
  },
  {
   "cell_type": "code",
   "execution_count": 267,
   "id": "816463b8",
   "metadata": {},
   "outputs": [
    {
     "name": "stdout",
     "output_type": "stream",
     "text": [
      "Iteration 0: Training Cost 0.18670490135675144, Test Cost 0.20929874189962575\n",
      "Iteration 5000: Training Cost 0.010692553975186671, Test Cost 0.053765238255702945\n",
      "Iteration 10000: Training Cost 0.014031837798464548, Test Cost 0.04813237457547543\n",
      "Iteration 15000: Training Cost 0.016575887659605902, Test Cost 0.04865576630958582\n",
      "Iteration 20000: Training Cost 0.01804781778460466, Test Cost 0.049667903863527124\n",
      "Iteration 15000: Training Cost 0.016575887659605902, Test Cost 0.04865576630958582\n",
      "Iteration 20000: Training Cost 0.01804781778460466, Test Cost 0.049667903863527124\n",
      "Iteration 25000: Training Cost 0.018827336375835245, Test Cost 0.050323180329293185\n",
      "Iteration 30000: Training Cost 0.019225927560700865, Test Cost 0.0506671359550451\n",
      "Iteration 25000: Training Cost 0.018827336375835245, Test Cost 0.050323180329293185\n",
      "Iteration 30000: Training Cost 0.019225927560700865, Test Cost 0.0506671359550451\n",
      "Iteration 35000: Training Cost 0.019427010566642203, Test Cost 0.05083014062060999\n",
      "Iteration 40000: Training Cost 0.019528178174636007, Test Cost 0.050900625796562515\n",
      "Iteration 35000: Training Cost 0.019427010566642203, Test Cost 0.05083014062060999\n",
      "Iteration 40000: Training Cost 0.019528178174636007, Test Cost 0.050900625796562515\n",
      "Iteration 45000: Training Cost 0.0195792822685528, Test Cost 0.05092695251409672\n",
      "Iteration 50000: Training Cost 0.019605346412260204, Test Cost 0.050933451555551984\n",
      "Iteration 45000: Training Cost 0.0195792822685528, Test Cost 0.05092695251409672\n",
      "Iteration 50000: Training Cost 0.019605346412260204, Test Cost 0.050933451555551984\n",
      "Iteration 55000: Training Cost 0.019618845664840512, Test Cost 0.05093179610474122\n",
      "w found by gradient descent with regularization: [-0.09443169  0.68216965 -2.07547182 -1.01251535  0.18904816  0.7674349\n",
      "  0.87965241  0.75634026  0.54518555  0.3220876   0.12032046 -0.04897358\n",
      " -0.18510026 -0.29170039 -0.37373983 -0.43613285]\n",
      "Iteration 55000: Training Cost 0.019618845664840512, Test Cost 0.05093179610474122\n",
      "w found by gradient descent with regularization: [-0.09443169  0.68216965 -2.07547182 -1.01251535  0.18904816  0.7674349\n",
      "  0.87965241  0.75634026  0.54518555  0.3220876   0.12032046 -0.04897358\n",
      " -0.18510026 -0.29170039 -0.37373983 -0.43613285]\n"
     ]
    }
   ],
   "source": [
    "# initialize the model parameters to 0\n",
    "w_in = np.zeros(X_train_scaled.shape[1])\n",
    "# run the gradient descent algorithm for 1000 iterations with a learning rate of 0.01 and lambda = 0.1\n",
    "alpha = 0.1\n",
    "num_iters = 60000\n",
    "lambda_l2 = 0.004\n",
    "GD_L2_w, J_history, test_J_history = gradient_descent_matrix_reg_l2(X_train_scaled, y_train, X_test_scaled, y_test, w_in, alpha, num_iters, lambda_l2)\n",
    "print(f\"w found by gradient descent with regularization: {GD_L2_w}\")"
   ]
  },
  {
   "cell_type": "code",
   "execution_count": 268,
   "id": "2fd5d835",
   "metadata": {},
   "outputs": [
    {
     "data": {
      "image/png": "[encoded data removed]",
      "text/plain": [
       "<Figure size 640x480 with 1 Axes>"
      ]
     },
     "metadata": {},
     "output_type": "display_data"
    }
   ],
   "source": [
    "# plot the cost over the iterations\n",
    "plt.plot(J_history, label='Training')\n",
    "plt.plot(test_J_history, label='Test')\n",
    "plt.xlabel('Iterations')\n",
    "plt.ylabel('Cost')\n",
    "plt.title('Cost vs Iterations')\n",
    "plt.legend()\n",
    "plt.show()"
   ]
  },
  {
   "cell_type": "code",
   "execution_count": 269,
   "id": "4ffe4e6e",
   "metadata": {},
   "outputs": [
    {
     "data": {
      "image/png": "[encoded data removed]",
      "text/plain": [
       "<Figure size 1000x500 with 2 Axes>"
      ]
     },
     "metadata": {},
     "output_type": "display_data"
    }
   ],
   "source": [
    "# putting the above figures side by side for comparision, using subplots\n",
    "fig, axs = plt.subplots(1, 2, figsize=(10,5))\n",
    "fig.suptitle('Train and Test Data')\n",
    "axs[0].plot(X_train[:, 0:1], X_train_scaled @ GD_L2_w, 'r')\n",
    "axs[0].plot(X_train[:, 0:1], y_train, '.')\n",
    "axs[0].set_title('Train Data')\n",
    "axs[1].plot(X_test[:, 0:1], X_test_scaled @ GD_L2_w, 'g')\n",
    "axs[1].plot(X_test[:, 0:1], y_test, '.')\n",
    "axs[1].set_title('Test Data')\n",
    "plt.show()\n"
   ]
  },
  {
   "cell_type": "markdown",
   "id": "ea38b685",
   "metadata": {},
   "source": [
    "### Task2: output the final RMSE for the training and test set below for performance comparision at the end"
   ]
  },
  {
   "cell_type": "code",
   "execution_count": 270,
   "id": "55f35cbc",
   "metadata": {},
   "outputs": [
    {
     "name": "stdout",
     "output_type": "stream",
     "text": [
      "Final training RMSE with L2 regularization:  0.1400927937939959\n",
      "Final test RMSE with L2 regularization:  0.22567090531815884\n"
     ]
    }
   ],
   "source": [
    "# output the final RMSE for the training and test set\n",
    "l2_RMSE = math.sqrt(J_history[-1])\n",
    "l2_test_RMSE = math.sqrt(test_J_history[-1])\n",
    "print(\"Final training RMSE with L2 regularization: \",l2_RMSE)\n",
    "print(\"Final test RMSE with L2 regularization: \", l2_test_RMSE)"
   ]
  },
  {
   "cell_type": "markdown",
   "id": "b2020fc3",
   "metadata": {},
   "source": [
    "## Using L1 Regularization to fix the overfitting issue\n",
    "\n",
    "The L1 gradient formula can be found below.\n",
    "\n",
    "\\begin{equation}\n",
    "W := W - \\alpha \\left( \\frac{1}{m} X^T (XW - y) + \\lambda \\, \\text{sgn}(W) \\right)    \\tag{10}\n",
    "\\end{equation}\n",
    "\n",
    "\n",
    "### L1 Implementation Challenges: Understanding the Difficulties\n",
    "\n",
    "Using gradient descent for L1 regularization (Lasso) presents unique optimization challenges:\n",
    "\n",
    "#### Primary Challenge: Non-differentiability\n",
    "* **Problem**: The L1 penalty |w| is not differentiable at w = 0\n",
    "* **Impact**: Gradient becomes undefined at zero points, causing optimization instability\n",
    "* **Result**: Standard gradient descent may struggle near sparse solutions\n",
    "\n",
    "#### Professional Solutions:\n",
    "\n",
    "* **Coordinate Descent**: Update one parameter at a time (sklearn's approach)Let's implement L1 regularization and observe both its benefits and challenges!\n",
    "\n",
    "* **Subgradient Methods**: Use sign function approximation (our approach)\n",
    "\n",
    "* **Proximal Methods**: Advanced techniques for non-smooth optimization**Key Insight**: This is why professional libraries like sklearn use specialized algorithms rather than vanilla gradient descent for Lasso regression.\n",
    "\n",
    "* **Soft Thresholding**: Analytical solutions for certain cases\n",
    "\n",
    "We'll implement the subgradient method using `np.sign()` to approximate the L1 gradient. While this may show some convergence challenges, it demonstrates the core concepts and mathematical foundations.\n",
    "\n",
    "#### Our Educational Approach"
   ]
  },
  {
   "cell_type": "markdown",
   "id": "167df22d",
   "metadata": {},
   "source": [
    "### Task 3: L1 Regularization Implementation (Lasso Regression)\n",
    "\n",
    "**Expected Outcome**: Some polynomial features should be eliminated (coefficients → 0)!\n",
    "\n",
    "**Objective**: Implement L1 regularization for automatic feature selection and overfitting prevention.\n",
    "\n",
    "- **Sparsity**: Expect some coefficients to become exactly zero\n",
    "\n",
    "**Key Implementation Details:**\n",
    "\n",
    "- **Sign function**: Use np.sign() for gradient computation\n",
    "\n",
    "- **Cost function**: Add λ * ||w||₁ penalty term\n",
    "- **Gradient**: Add λ * sign(w) to standard gradient  "
   ]
  },
  {
   "cell_type": "code",
   "execution_count": 271,
   "id": "3453c9e9",
   "metadata": {},
   "outputs": [],
   "source": [
    "# Function to calculate the cost with L1 regularization\n",
    "def compute_cost_matrix_reg_l1(X, y, w, lambda_reg):\n",
    "    \"\"\"\n",
    "    Computes the cost for linear regression with L1 regularization\n",
    "    \n",
    "    Args:\n",
    "      X (ndarray (m,n)): Data, m examples with n features\n",
    "      y (ndarray (m,)) : target values\n",
    "      w (ndarray (n,)) : model parameters\n",
    "      lambda_reg (float): regularization parameter\n",
    "      \n",
    "    Returns\n",
    "      cost: (scalar)\n",
    "    \"\"\"\n",
    "    # use vectorization to implement the cost for linear regression with L1 regularization, do not regularize the bias term\n",
    "    m = len(y)\n",
    "    predictions = X @ w\n",
    "    mse_cost = np.sum((predictions - y) ** 2) / (2*m)\n",
    "    l1_penalty = (lambda_reg) * np.sum(np.abs(w[1:]))\n",
    "    cost = mse_cost + l1_penalty\n",
    "    return cost"
   ]
  },
  {
   "cell_type": "code",
   "execution_count": 272,
   "id": "c1c4ee32",
   "metadata": {},
   "outputs": [],
   "source": [
    "# Function to calculate the gradient with L1 regularization\n",
    "def compute_gradient_matrix_reg_l1(X, y, w, lambda_reg):\n",
    "    \"\"\"\n",
    "    Computes the gradient for linear regression with L1 regularization\n",
    "    \n",
    "    Args:\n",
    "      X (ndarray (m,n)): Data, m examples with n features\n",
    "      y (ndarray (m,)) : target values\n",
    "      w (ndarray (n,)) : model parameters\n",
    "      lambda_reg (float): regularization parameter\n",
    "      \n",
    "    Returns\n",
    "      dj_dw (ndarray (n,1)): The gradient of the cost w.r.t. the parameters w.\n",
    "    \"\"\"\n",
    "    # use vectorization to implement the gradient for linear regression with L1 regularization, do not regularize the bias term\n",
    "    m = len(y)\n",
    "    predictions = X @ w\n",
    "    errors = predictions - y\n",
    "    dj_dw = (X.T @ errors) / m\n",
    "    # Add regularization term for weights w[1:] (excluding bias w[0])\n",
    "    dj_dw[1:] += (lambda_reg / m) * np.sign(w[1:])\n",
    "    return dj_dw"
   ]
  },
  {
   "cell_type": "code",
   "execution_count": 273,
   "id": "d8a3b2ae",
   "metadata": {},
   "outputs": [],
   "source": [
    "# Function to perform gradient descent with L1 regularization\n",
    "def gradient_descent_matrix_reg_l1(X, y, X_test, y_test, w_in, alpha, num_iters, lambda_reg):\n",
    "    \"\"\"\n",
    "    Performs batch gradient descent to learn w. Updates w by taking \n",
    "    num_iters gradient steps with learning rate alpha\n",
    "    \n",
    "    Args:\n",
    "      X (ndarray (?,n+1))   : Training Data, m examples with n features\n",
    "      y (ndarray (?,))    : Training target values\n",
    "      X_test (ndarray (?,n+1))   : Test set, m examples with n features\n",
    "      y_test (ndarray (?,))    : target values in test set\n",
    "      w_in (ndarray (n+1,)) : initial model parameters  \n",
    "      alpha (float)       : Learning rate\n",
    "      num_iters (int)     : number of iterations to run gradient descent\n",
    "      lambda_reg (float)  : regularization parameter\n",
    "      \n",
    "    Returns:\n",
    "      w (ndarray (n+1,)) : Updated values of parameters\n",
    "      J_history           : Cost of the model after each iteration\n",
    "      test_J_history      : Cost of the model on test set after each iteration\n",
    "      \"\"\"\n",
    "    \n",
    "    # implement the batch gradient descent algorithm using the compute_gradient and compute_cost functions\n",
    "    w = copy.deepcopy(w_in) \n",
    "    J_history = []\n",
    "    test_J_history = []\n",
    "    for i in range(num_iters):\n",
    "        dj_dw = compute_gradient_matrix_reg_l1(X, y, w, lambda_reg)\n",
    "        w = w - alpha * dj_dw\n",
    "        cost = compute_cost_matrix_reg_l1(X, y, w, lambda_reg)\n",
    "        test_cost = compute_cost_matrix_reg_l1(X_test, y_test, w, lambda_reg)\n",
    "        J_history.append(cost)\n",
    "        test_J_history.append(test_cost)\n",
    "        if i % 5000 == 0:\n",
    "            print(f\"Iteration {i}: Training Cost {cost}, Test Cost {test_cost}\")  \n",
    "    return w, J_history, test_J_history\n",
    "       "
   ]
  },
  {
   "cell_type": "code",
   "execution_count": 274,
   "id": "6ddf6acd",
   "metadata": {},
   "outputs": [
    {
     "name": "stdout",
     "output_type": "stream",
     "text": [
      "Iteration 0: Training Cost 0.18729684256329882, Test Cost 0.20989068310617312\n",
      "Iteration 5000: Training Cost 0.018788581275855934, Test Cost 0.06775034405348748\n",
      "Iteration 10000: Training Cost 0.021794834269954093, Test Cost 0.06186098289537403\n",
      "Iteration 15000: Training Cost 0.024002778922496776, Test Cost 0.05910116215483249\n",
      "Iteration 20000: Training Cost 0.02524356719777926, Test Cost 0.057592303955158027\n",
      "Iteration 25000: Training Cost 0.026200237642245758, Test Cost 0.056647211578847785\n",
      "Iteration 15000: Training Cost 0.024002778922496776, Test Cost 0.05910116215483249\n",
      "Iteration 20000: Training Cost 0.02524356719777926, Test Cost 0.057592303955158027\n",
      "Iteration 25000: Training Cost 0.026200237642245758, Test Cost 0.056647211578847785\n",
      "Iteration 30000: Training Cost 0.026765422731558894, Test Cost 0.05587978164876385\n",
      "Iteration 35000: Training Cost 0.027721420835319116, Test Cost 0.055590158487600475\n",
      "Iteration 40000: Training Cost 0.028392430410003937, Test Cost 0.055536829925604686\n",
      "Iteration 45000: Training Cost 0.02884146112795322, Test Cost 0.055499168192727044\n",
      "Iteration 30000: Training Cost 0.026765422731558894, Test Cost 0.05587978164876385\n",
      "Iteration 35000: Training Cost 0.027721420835319116, Test Cost 0.055590158487600475\n",
      "Iteration 40000: Training Cost 0.028392430410003937, Test Cost 0.055536829925604686\n",
      "Iteration 45000: Training Cost 0.02884146112795322, Test Cost 0.055499168192727044\n",
      "Iteration 50000: Training Cost 0.029132365386478697, Test Cost 0.05544401218009246\n",
      "Iteration 55000: Training Cost 0.02930942105553375, Test Cost 0.055385295673209184\n",
      "w found by gradient descent with L1 regularization: [-9.44316904e-02  9.51376705e-01 -3.06491567e+00 -9.43422424e-05\n",
      "  9.79839721e-06  1.21727300e+00  1.10500115e+00  6.20949099e-02\n",
      "  4.05922926e-05 -2.99046145e-05 -1.98746958e-05 -1.31847891e-04\n",
      " -4.04540428e-05 -1.39868734e-04 -4.89098095e-02 -3.80933281e-01]\n",
      "Iteration 50000: Training Cost 0.029132365386478697, Test Cost 0.05544401218009246\n",
      "Iteration 55000: Training Cost 0.02930942105553375, Test Cost 0.055385295673209184\n",
      "w found by gradient descent with L1 regularization: [-9.44316904e-02  9.51376705e-01 -3.06491567e+00 -9.43422424e-05\n",
      "  9.79839721e-06  1.21727300e+00  1.10500115e+00  6.20949099e-02\n",
      "  4.05922926e-05 -2.99046145e-05 -1.98746958e-05 -1.31847891e-04\n",
      " -4.04540428e-05 -1.39868734e-04 -4.89098095e-02 -3.80933281e-01]\n"
     ]
    }
   ],
   "source": [
    "# initialize the model parameters to 0\n",
    "w_in = np.zeros(X_train_scaled.shape[1])\n",
    "# run the gradient descent algorithm for 1000 iterations with a learning rate of 0.01 and lambda = 0.1\n",
    "alpha = 0.1\n",
    "num_iters = 60000\n",
    "lambda_l1 = 0.004\n",
    "GD_L1_w, J_history, test_J_history = gradient_descent_matrix_reg_l1(X_train_scaled, y_train, X_test_scaled, y_test, w_in, alpha, num_iters, lambda_l1)\n",
    "print(f\"w found by gradient descent with L1 regularization: {GD_L1_w}\")"
   ]
  },
  {
   "cell_type": "code",
   "execution_count": 275,
   "id": "d506701d",
   "metadata": {},
   "outputs": [
    {
     "data": {
      "image/png": "[encoded data removed]",
      "text/plain": [
       "<Figure size 640x480 with 1 Axes>"
      ]
     },
     "metadata": {},
     "output_type": "display_data"
    }
   ],
   "source": [
    "# plot the cost over the iterations\n",
    "plt.plot(J_history, label='Training')\n",
    "plt.plot(test_J_history, label='Test')\n",
    "\n",
    "plt.xlabel('Iterations')\n",
    "plt.ylabel('Cost')\n",
    "plt.title('Cost vs Iterations')\n",
    "plt.legend()\n",
    "plt.show()"
   ]
  },
  {
   "cell_type": "code",
   "execution_count": 276,
   "id": "d45f7d54",
   "metadata": {},
   "outputs": [
    {
     "data": {
      "image/png": "[encoded data removed]",
      "text/plain": [
       "<Figure size 1000x500 with 2 Axes>"
      ]
     },
     "metadata": {},
     "output_type": "display_data"
    }
   ],
   "source": [
    "# putting the above figures side by side for comparision, using subplots\n",
    "fig, axs = plt.subplots(1, 2, figsize=(10,5))\n",
    "fig.suptitle('Train and Test Data')\n",
    "axs[0].plot(X_train[:, 0:1], X_train_scaled @ GD_L1_w, 'r')\n",
    "axs[0].plot(X_train[:, 0:1], y_train, '.')\n",
    "axs[0].set_title('Train Data')\n",
    "axs[1].plot(X_test[:, 0:1], X_test_scaled @ GD_L1_w, 'g')\n",
    "axs[1].plot(X_test[:, 0:1], y_test, '.')\n",
    "axs[1].set_title('Test Data')\n",
    "plt.show()\n"
   ]
  },
  {
   "cell_type": "markdown",
   "id": "ee37f372",
   "metadata": {},
   "source": [
    "### Task4: output the final RMSE for the training and test set below for performance comparision at the end"
   ]
  },
  {
   "cell_type": "code",
   "execution_count": 277,
   "id": "974a3e6d",
   "metadata": {},
   "outputs": [
    {
     "name": "stdout",
     "output_type": "stream",
     "text": [
      "Final training RMSE with L1 regularization:  0.1714793895653673\n",
      "Final test RMSE with L1 regularization:  0.23515004544600426\n"
     ]
    }
   ],
   "source": [
    "# output the final RMSE for the training and test set\n",
    "l1_RMSE = math.sqrt(J_history[-1])\n",
    "l1_test_RMSE = math.sqrt(test_J_history[-1])\n",
    "print(\"Final training RMSE with L1 regularization: \",l1_RMSE)\n",
    "print(\"Final test RMSE with L1 regularization: \", l1_test_RMSE)"
   ]
  },
  {
   "cell_type": "markdown",
   "id": "f2c2efc3",
   "metadata": {},
   "source": [
    "## Professional Implementation: Scikit-Learn's Optimized Algorithms\n",
    "\n",
    "\n",
    "**Why Compare with Sklearn?**\n",
    "\n",
    "- **Parameters**: Different hyperparameter conventions (alpha vs. lambda)\n",
    "\n",
    "- **Industry Standard**: Production-ready, optimized implementations\n",
    "- **Performance**: Optimized C/Fortran backends for speed\n",
    "\n",
    "- **Advanced Algorithms**: Coordinate descent for Lasso, efficient solvers for Ridge\n",
    "- **Stability**: Professional implementations handle edge cases better\n",
    "\n",
    "- **Performance Benchmark**: Compare your implementations with professional tools\n",
    "- **Convergence**: Sklearn may converge faster due to advanced optimization\n",
    "\n",
    "- **Real-World Relevance**: Understand when to build custom vs. use libraries\n"
   ]
  },
  {
   "cell_type": "markdown",
   "id": "38592310",
   "metadata": {},
   "source": [
    "### Task 5: Professional Ridge Regression with Scikit-Learn\n",
    "\n",
    "**Comparison Focus**: How do sklearn's parameters compare to your custom implementation?\n",
    "\n",
    "**Implementation Requirements:**\n",
    "\n",
    "- Use `Ridge(alpha=0.004, max_iter=10000)` for fair comparison- Extract learned parameters using `.coef_` and `.intercept_`\n",
    "\n",
    "- Fit on scaled training data: `X_train_scaled`, `y_train`- Predict on both training and test sets"
   ]
  },
  {
   "cell_type": "code",
   "execution_count": 278,
   "id": "a125153a",
   "metadata": {},
   "outputs": [
    {
     "name": "stdout",
     "output_type": "stream",
     "text": [
      "w found by Ridge regression from sklearn:  [ 0.          0.68317146 -2.07864713 -1.01132877  0.1916362   0.76887686\n",
      "  0.87940349  0.75488447  0.54324044  0.32025102  0.11897939 -0.04962267\n",
      " -0.18499861 -0.29087521 -0.37226435 -0.4340992 ]\n"
     ]
    }
   ],
   "source": [
    "# use Ridge regression from sklearn to learn the model parameters\n",
    "# alpha=0.004, max_iter=10000 \n",
    "Ridge_model = Ridge(alpha = 0.004, max_iter = 10000)\n",
    "Ridge_model.fit(X_train_scaled, y_train)\n",
    "print(\"w found by Ridge regression from sklearn: \", Ridge_model.coef_)  \n",
    "#predictions\n",
    "predictions = Ridge_model.predict(X_test_scaled)"
   ]
  },
  {
   "cell_type": "markdown",
   "id": "0531a17c",
   "metadata": {},
   "source": [
    "### Task6: Output the RMSE for the Ridge regression"
   ]
  },
  {
   "cell_type": "code",
   "execution_count": 279,
   "id": "b4800e0c",
   "metadata": {},
   "outputs": [
    {
     "name": "stdout",
     "output_type": "stream",
     "text": [
      "Ridge Regression Training RMSE: 0.06859784497256215\n",
      "Ridge Regression Test RMSE: 0.259302799921935\n"
     ]
    }
   ],
   "source": [
    "# output the final RMSE for the training and test set\n",
    "ridge_rmse = math.sqrt(np.sum(((Ridge_model.predict(X_train_scaled) - y_train) ** 2) / len(y_train)))\n",
    "ridge_test_RMSE = math.sqrt(np.sum(((predictions - y_test) ** 2) / len(y_test)))\n",
    "print('Ridge Regression Training RMSE:', ridge_rmse)\n",
    "print('Ridge Regression Test RMSE:', ridge_test_RMSE)"
   ]
  },
  {
   "cell_type": "markdown",
   "id": "7546a2a5",
   "metadata": {},
   "source": [
    "### Task 7: Professional Lasso Regression with Scikit-Learn\n",
    "\n",
    "**Sparsity Investigation**: Which polynomial terms does Lasso eliminate as irrelevant?\n",
    "\n",
    "**Implementation Requirements:**\n",
    "\n",
    "- Use `Lasso(alpha=0.004, max_iter=10000)` for consistency\n",
    "- Compare sparsity pattern with your custom L1 implementation\n",
    "\n",
    "- Apply to standardized data for proper regularization\n",
    "  \n",
    "**Key Analysis**: Count how many coefficients are exactly zero"
   ]
  },
  {
   "cell_type": "code",
   "execution_count": 280,
   "id": "854ecc95",
   "metadata": {},
   "outputs": [
    {
     "name": "stdout",
     "output_type": "stream",
     "text": [
      "w found by Lasso regression from sklearn:  [ 0.         -0.         -1.27800488 -0.          0.          0.\n",
      "  0.          0.57624013  0.49526164  0.          0.          0.\n",
      "  0.          0.          0.          0.        ]\n"
     ]
    }
   ],
   "source": [
    "# Use lasso regression from sklearn to learn the model parameters\n",
    "# alpha=0.004, max_iter=10000\n",
    "Lasso_model = Lasso(alpha = 0.004, max_iter = 10000)\n",
    "Lasso_model.fit(X_train_scaled, y_train)\n",
    "print(\"w found by Lasso regression from sklearn: \", Lasso_model.coef_)  \n",
    "#predictions\n",
    "predictions = Lasso_model.predict(X_test_scaled)\n"
   ]
  },
  {
   "cell_type": "markdown",
   "id": "ea76c77d",
   "metadata": {},
   "source": [
    "### Task 8: Lasso Performance Analysis\n",
    "\n",
    "**Evaluation Requirements:**\n",
    "- Calculate and output final RMSE for both training and test sets\n",
    "- **Sparsity Analysis**: Count and report how many coefficients are exactly zero\n",
    "- **Feature Selection**: Identify which polynomial terms were eliminated\n",
    "- **Compare**: How does Lasso sparsity compare to your custom L1 implementation?"
   ]
  },
  {
   "cell_type": "code",
   "execution_count": 281,
   "id": "f117ffcb",
   "metadata": {},
   "outputs": [
    {
     "name": "stdout",
     "output_type": "stream",
     "text": [
      "Lasso Regression RMSE: 0.11747428469868576\n",
      "Lasso Regression Test RMSE: 0.34328309809578583\n"
     ]
    }
   ],
   "source": [
    "# output the final RMSE for the training and test set\n",
    "lasso_rmse = math.sqrt(np.sum(((Lasso_model.predict(X_train_scaled) - y_train) ** 2) / len(y_train)))\n",
    "lasso_test_RMSE = math.sqrt(np.sum(((predictions - y_test) ** 2) / len(y_test)))\n",
    "print('Lasso Regression RMSE:', lasso_rmse)\n",
    "print('Lasso Regression Test RMSE:', lasso_test_RMSE)"
   ]
  },
  {
   "cell_type": "markdown",
   "id": "f6cafaa5",
   "metadata": {},
   "source": [
    "## Comprehensive Analysis: Comparing All Approaches\n",
    "\n",
    "**Comparative Study Objectives:**\n",
    "- **Parameter Analysis**: How do learned weights differ across methods?\n",
    "- **Performance Evaluation**: Which approach generalizes best?\n",
    "- **Implementation Insights**: Custom vs. professional implementations  \n",
    "- **Method Selection**: When to use L1 vs. L2 vs. no regularization\n",
    "\n",
    "**Expected Discoveries:**\n",
    "- Regularized models should show better generalization (lower test RMSE)\n",
    "- L1 methods should produce sparse solutions with zero coefficients\n",
    "- L2 methods should shrink all parameters uniformly\n",
    "- Professional implementations may outperform custom gradient descent"
   ]
  },
  {
   "cell_type": "markdown",
   "id": "c0f80302",
   "metadata": {},
   "source": [
    "### Task 9: Parameter Comparison Matrix\n",
    "\n",
    "**Create a comprehensive DataFrame comparing all learned parameters:**\n",
    "\n",
    "**Models to Include:**\n",
    "\n",
    "- Vanilla GD (baseline overfitted model)\n",
    "- Custom L2 Regularization (Ridge)\n",
    "- Custom L1 Regularization (Lasso) \n",
    "- Sklearn Ridge Regression\n",
    "- Sklearn Lasso Regression\n",
    "\n",
    "**DataFrame Structure:**\n",
    "\n",
    "- **Rows**: Each polynomial feature (x¹, x², ..., x¹⁵) + bias term\n",
    "- **Columns**: Each model's learned parameters\n",
    "- **Analysis**: Identify patterns, sparsity, parameter magnitude differences\n",
    "\n",
    "**Key Questions to Investigate:**\n",
    "\n",
    "1. Which coefficients does L1 drive to zero?\n",
    "2. How do L2 parameters compare in magnitude to unregularized?\n",
    "3. Are sklearn and custom implementations learning similar patterns?\n",
    "\n",
    "- **Rows**: Each polynomial feature (x¹, x², ..., x¹⁵) + bias term\n",
    "\n",
    "**Models to Include:**\n",
    "\n",
    "- Vanilla GD (baseline overfitted model)\n",
    "\n",
    "- Custom L2 Regularization (Ridge)- Sklearn Lasso Regression\n",
    "\n",
    "- Custom L1 Regularization (Lasso) - Sklearn Ridge Regression"
   ]
  },
  {
   "cell_type": "code",
   "execution_count": 282,
   "id": "6b487a2e",
   "metadata": {},
   "outputs": [
    {
     "name": "stdout",
     "output_type": "stream",
     "text": [
      "   Model  Baseline GD  Custom L2 GD  Custom L1 GD  Sklearn Ridge  \\\n",
      "0   Bias    -0.094432     -0.094432     -0.094432       0.000000   \n",
      "1     x1     1.451011      0.682170      0.951377       0.683171   \n",
      "2     x2    -3.311383     -2.075472     -3.064916      -2.078647   \n",
      "3     x3    -1.465804     -1.012515     -0.000094      -1.011329   \n",
      "4     x4     0.499038      0.189048      0.000010       0.191636   \n",
      "5     x5     1.352924      0.767435      1.217273       0.768877   \n",
      "6     x6     1.432393      0.879652      1.105001       0.879403   \n",
      "7     x7     1.154671      0.756340      0.062095       0.754884   \n",
      "8     x8     0.769085      0.545186      0.000041       0.543240   \n",
      "9     x9     0.393416      0.322088     -0.000030       0.320251   \n",
      "10   x10     0.072289      0.120320     -0.000020       0.118979   \n",
      "11   x11    -0.184788     -0.048974     -0.000132      -0.049623   \n",
      "12   x12    -0.383031     -0.185100     -0.000040      -0.184999   \n",
      "13   x13    -0.532458     -0.291700     -0.000140      -0.290875   \n",
      "14   x14    -0.643492     -0.373740     -0.048910      -0.372264   \n",
      "15   x15    -0.725256     -0.436133     -0.380933      -0.434099   \n",
      "\n",
      "    Sklearn Lasso  \n",
      "0        0.000000  \n",
      "1       -0.000000  \n",
      "2       -1.278005  \n",
      "3       -0.000000  \n",
      "4        0.000000  \n",
      "5        0.000000  \n",
      "6        0.000000  \n",
      "7        0.576240  \n",
      "8        0.495262  \n",
      "9        0.000000  \n",
      "10       0.000000  \n",
      "11       0.000000  \n",
      "12       0.000000  \n",
      "13       0.000000  \n",
      "14       0.000000  \n",
      "15       0.000000  \n"
     ]
    }
   ],
   "source": [
    "#putting all the parameters from the above models in a dataframe, adding the bias term to the model parameters\n",
    "X_features = ['x1', 'x2', 'x3', 'x4', 'x5', 'x6', 'x7', 'x8', 'x9', 'x10', 'x11', 'x12', 'x13', 'x14', 'x15']\n",
    "comparison_df = pd.DataFrame({\n",
    "    'Model': ['Bias'] + X_features,\n",
    "    'Baseline GD': w,\n",
    "    'Custom L2 GD': GD_L2_w,\n",
    "    'Custom L1 GD': GD_L1_w,\n",
    "    'Sklearn Ridge': Ridge_model.coef_,\n",
    "    'Sklearn Lasso':Lasso_model.coef_\n",
    "})\n",
    "print(comparison_df)\n"
   ]
  },
  {
   "cell_type": "markdown",
   "id": "653f5611",
   "metadata": {},
   "source": [
    "*ANALYSIS QUESTIONS*\n",
    "1. L1 drives all coefficients except for x2, x7 and x8 to 0.\n",
    "2. L2 parameters are smaller in magnitude compared to unregularized as the additional penalty term to the cost function discourages larger coefficients.\n",
    "3. Yes, although the custom L2 and Ridge models are much closer in pattern and magnitude than the L1 and Lasso model. "
   ]
  },
  {
   "cell_type": "markdown",
   "id": "453b0b06",
   "metadata": {},
   "source": [
    "### Task 10: Performance Leaderboard Analysis\n",
    "\n",
    "**Expected Insights**: Regularized models should show better generalization!\n",
    "\n",
    "**Create a comprehensive performance comparison:**\n",
    "\n",
    "* How do custom implementations compare to sklearn?\n",
    "* When would you choose L1 vs L2 regularization?\n",
    "\n",
    "**Metrics to Compare:**\n",
    "\n",
    "- Training RMSE (overfitting indicator)\n",
    "- Test RMSE (generalization measure) \n",
    "- Generalization Gap (Test RMSE - Train RMSE)\n",
    "- Number of Zero Coefficients (sparsity measure)\n",
    "\n",
    "**Analysis Questions:**\n",
    "\n",
    "1. Which method has the best test performance?\n",
    "2. Which method shows least overfitting (smallest gap)?\n",
    "3. How do custom implementations compare to sklearn?\n",
    "4. When would you choose L1 vs L2 regularization?\n",
    "\n",
    "**Expected Insights**: Regularized models should show better generalization!"
   ]
  },
  {
   "cell_type": "code",
   "execution_count": 283,
   "id": "9d0720aa",
   "metadata": {},
   "outputs": [
    {
     "name": "stdout",
     "output_type": "stream",
     "text": [
      "           Model  Training RMSE  Test RMSE  Generalization Gap  \\\n",
      "0    Baseline GD       0.027505   0.223883            0.196378   \n",
      "1   Custom L2 GD       0.140093   0.225671            0.085578   \n",
      "2   Custom L1 GD       0.171479   0.235150            0.063671   \n",
      "3  Sklearn Ridge       0.068598   0.259303            0.190705   \n",
      "4  Sklearn Lasso       0.117474   0.343283            0.225809   \n",
      "\n",
      "   Number of Zero Coefficients  \n",
      "0                            0  \n",
      "1                            0  \n",
      "2                            0  \n",
      "3                            1  \n",
      "4                           13  \n"
     ]
    }
   ],
   "source": [
    "# Create a performance comparison dataframe for all models\n",
    "performance_df = pd.DataFrame({\n",
    "    'Model': [\n",
    "        'Baseline GD',\n",
    "        'Custom L2 GD',\n",
    "        'Custom L1 GD',\n",
    "        'Sklearn Ridge',\n",
    "        'Sklearn Lasso'\n",
    "    ],\n",
    "    'Training RMSE': [\n",
    "        gd_rmse_train,\n",
    "        l2_RMSE,\n",
    "        l1_RMSE,\n",
    "        ridge_rmse,\n",
    "        lasso_rmse\n",
    "    ],\n",
    "    'Test RMSE': [\n",
    "        gd_rmse_test,\n",
    "        l2_test_RMSE,\n",
    "        l1_test_RMSE,\n",
    "        ridge_test_RMSE,\n",
    "        lasso_test_RMSE\n",
    "    ],\n",
    "    'Generalization Gap': [\n",
    "        gd_rmse_test - gd_rmse_train,\n",
    "        l2_test_RMSE - l2_RMSE,\n",
    "        l1_test_RMSE - l1_RMSE,\n",
    "        ridge_test_RMSE - ridge_rmse,\n",
    "        lasso_test_RMSE - lasso_rmse\n",
    "    ],\n",
    "    'Number of Zero Coefficients': [\n",
    "        np.sum(w[1:] == 0),\n",
    "        np.sum(GD_L2_w[1:] == 0),\n",
    "        np.sum(GD_L1_w[1:] == 0),\n",
    "        np.sum(Ridge_model.coef_ == 0),\n",
    "        np.sum(Lasso_model.coef_ == 0)\n",
    "    ]\n",
    "})\n",
    "print(performance_df)"
   ]
  },
  {
   "cell_type": "markdown",
   "id": "0f1230a4",
   "metadata": {},
   "source": [
    "*ANALYSIS QUESTIONS*\n",
    "1. The baseline has the best test performance of 0.2239 test RMSE, but of the regularization models the custom L2 GD has the lowest test RMSE of 0.2257.\n",
    "2. The custom L1 model consequently displays the least overfitting as shown by its 0.063 gap in training and test RMSE.\n",
    "3. In general, the custom implementations appear to perform better than the sklearn counterparts.\n",
    "4. Choose L2 regularization when you want to keep more of the features and believe they have higher collinearity and L1 for if you believe less features are needed and wish to conduct feature selection."
   ]
  },
  {
   "cell_type": "markdown",
   "id": "4df9f5a4",
   "metadata": {},
   "source": [
    "## Congratulations! You've Mastered Regularized Machine Learning!\n",
    "\n",
    "\n",
    "### Key Achievements Unlocked:\n",
    "\n",
    "#### Technical Mastery\n",
    "\n",
    "* **Regularized Cost Functions**: Successfully extended MSE with L1/L2 penalty terms\n",
    "* **Advanced Gradient Descent**: Implemented vectorized algorithms with regularization\n",
    "* **Professional Tools**: Leveraged scikit-learn's optimized Lasso and Ridge implementations\n",
    "* **Comparative Analysis**: Systematically evaluated custom vs. professional approaches\n",
    "\n",
    "#### Conceptual Understanding \n",
    "\n",
    "* **Overfitting Recognition**: Identified and diagnosed overfitting through learning curves\n",
    "* **Bias-Variance Tradeoff**: Observed how regularization balances model complexity\n",
    "* **L1 vs L2 Intuition**: Understood sparsity (L1) vs. shrinkage (L2) effects\n",
    "* **Hyperparameter Impact**: Explored how λ controls regularization strength\n",
    "\n",
    "#### Professional Insights\n",
    "\n",
    "* **When to Regularize**: Small datasets + high dimensions = regularization essential\n",
    "* **Method Selection**: L1 for feature selection, L2 for smooth parameter shrinkage\n",
    "* **Implementation Choices**: Custom for learning, sklearn for production\n",
    "* **Performance Evaluation**: Always compare training vs. test performance\n",
    "\n",
    "### Real-World Applications\n",
    "\n",
    "You're now equipped to tackle overfitting in:\n",
    "\n",
    "- **Medical Diagnosis**: High-dimensional genomic data\n",
    "- **Financial Modeling**: Feature-rich economic indicators \n",
    "- **Image Recognition**: Pixel-level feature engineering\n",
    "- **Natural Language Processing**: Large vocabulary models\n",
    "\n",
    "**Next Steps**: Apply these techniques to your own datasets and explore advanced regularization methods like Elastic Net!"
   ]
  },
  {
   "cell_type": "markdown",
   "id": "6be7b4d0",
   "metadata": {},
   "source": [
    "## Reference\n",
    "\n",
    "Deeplearning.AI"
   ]
  },
  {
   "cell_type": "markdown",
   "id": "5f7ff7fa",
   "metadata": {},
   "source": []
  }
 ],
 "metadata": {
  "kernelspec": {
   "display_name": "Python 3",
   "language": "python",
   "name": "python3"
  },
  "language_info": {
   "codemirror_mode": {
    "name": "ipython",
    "version": 3
   },
   "file_extension": ".py",
   "mimetype": "text/x-python",
   "name": "python",
   "nbconvert_exporter": "python",
   "pygments_lexer": "ipython3",
   "version": "3.11.2"
  }
 },
 "nbformat": 4,
 "nbformat_minor": 5
}
